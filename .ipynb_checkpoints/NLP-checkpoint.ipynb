{
 "cells": [
  {
   "cell_type": "code",
   "execution_count": 19,
   "metadata": {},
   "outputs": [
    {
     "name": "stderr",
     "output_type": "stream",
     "text": [
      "[nltk_data] Downloading package punkt to\n",
      "[nltk_data]     C:\\Users\\sampa\\AppData\\Roaming\\nltk_data...\n",
      "[nltk_data]   Package punkt is already up-to-date!\n"
     ]
    },
    {
     "data": {
      "text/plain": [
       "True"
      ]
     },
     "execution_count": 19,
     "metadata": {},
     "output_type": "execute_result"
    }
   ],
   "source": [
    "import nltk\n",
    "nltk.download('punkt')"
   ]
  },
  {
   "cell_type": "code",
   "execution_count": 20,
   "metadata": {},
   "outputs": [],
   "source": [
    "quote = \"A caminho da Base de Alcântara com a comitiva de parlamentares e ministros, acompanhando o Presidente Jair Bolsonaro. Onde, logo mais, participaremos da celebração dos 27 anos da Agência Espacial Brasileira.\""
   ]
  },
  {
   "cell_type": "code",
   "execution_count": 21,
   "metadata": {},
   "outputs": [
    {
     "data": {
      "text/plain": [
       "'A caminho da Base de Alcântara com a comitiva de parlamentares e ministros, acompanhando o Presidente Jair Bolsonaro. Onde, logo mais, participaremos da celebração dos 27 anos da Agência Espacial Brasileira.'"
      ]
     },
     "execution_count": 21,
     "metadata": {},
     "output_type": "execute_result"
    }
   ],
   "source": [
    "quote\n"
   ]
  },
  {
   "cell_type": "code",
   "execution_count": 32,
   "metadata": {},
   "outputs": [],
   "source": [
    "tokens = nltk.word_tokenize(quote, language = \"portuguese\")"
   ]
  },
  {
   "cell_type": "code",
   "execution_count": 33,
   "metadata": {},
   "outputs": [
    {
     "data": {
      "text/plain": [
       "['A',\n",
       " 'caminho',\n",
       " 'da',\n",
       " 'Base',\n",
       " 'de',\n",
       " 'Alcântara',\n",
       " 'com',\n",
       " 'a',\n",
       " 'comitiva',\n",
       " 'de',\n",
       " 'parlamentares',\n",
       " 'e',\n",
       " 'ministros',\n",
       " ',',\n",
       " 'acompanhando',\n",
       " 'o',\n",
       " 'Presidente',\n",
       " 'Jair',\n",
       " 'Bolsonaro',\n",
       " '.',\n",
       " 'Onde',\n",
       " ',',\n",
       " 'logo',\n",
       " 'mais',\n",
       " ',',\n",
       " 'participaremos',\n",
       " 'da',\n",
       " 'celebração',\n",
       " 'dos',\n",
       " '27',\n",
       " 'anos',\n",
       " 'da',\n",
       " 'Agência',\n",
       " 'Espacial',\n",
       " 'Brasileira',\n",
       " '.']"
      ]
     },
     "execution_count": 33,
     "metadata": {},
     "output_type": "execute_result"
    }
   ],
   "source": [
    "tokens"
   ]
  },
  {
   "cell_type": "code",
   "execution_count": 34,
   "metadata": {},
   "outputs": [],
   "source": [
    "#Tokenização de Sentenças\n",
    "sent = nltk.sent_tokenize(quote, language = \"portuguese\")"
   ]
  },
  {
   "cell_type": "code",
   "execution_count": 35,
   "metadata": {},
   "outputs": [
    {
     "data": {
      "text/plain": [
       "['A caminho da Base de Alcântara com a comitiva de parlamentares e ministros, acompanhando o Presidente Jair Bolsonaro.',\n",
       " 'Onde, logo mais, participaremos da celebração dos 27 anos da Agência Espacial Brasileira.']"
      ]
     },
     "execution_count": 35,
     "metadata": {},
     "output_type": "execute_result"
    }
   ],
   "source": [
    "sent"
   ]
  },
  {
   "cell_type": "code",
   "execution_count": 36,
   "metadata": {},
   "outputs": [],
   "source": [
    "#Análise morfológica (Só suporta pro inglês, mas tem como fazer para texto em portugês)\n",
    "#token = nltk.word_tokenize(quote)\n",
    "#nltk.pos_tag(token)"
   ]
  },
  {
   "cell_type": "code",
   "execution_count": null,
   "metadata": {},
   "outputs": [],
   "source": []
  }
 ],
 "metadata": {
  "kernelspec": {
   "display_name": "Python 3",
   "language": "python",
   "name": "python3"
  },
  "language_info": {
   "codemirror_mode": {
    "name": "ipython",
    "version": 3
   },
   "file_extension": ".py",
   "mimetype": "text/x-python",
   "name": "python",
   "nbconvert_exporter": "python",
   "pygments_lexer": "ipython3",
   "version": "3.7.6"
  }
 },
 "nbformat": 4,
 "nbformat_minor": 4
}
